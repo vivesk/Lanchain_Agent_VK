{
  "cells": [
    {
      "cell_type": "code",
      "execution_count": null,
      "id": "53f81c37-db45-4fdc-843c-aa8fd2a9e99d",
      "metadata": {
        "colab": {
          "base_uri": "https://localhost:8080/"
        },
        "id": "53f81c37-db45-4fdc-843c-aa8fd2a9e99d",
        "outputId": "95587e83-1f52-4ca6-c756-8a6d5a7d248e"
      },
      "outputs": [],
      "source": [
        "# Use termcolor to make it easy to colorize the outputs.\n",
        "!pip install termcolor > /dev/null\n",
        "!pip install langchain\n",
        "!pip install openai\n",
        "!pip install langchain_experimental\n",
        "!pip install tiktoken\n",
        "!pip install faiss-cpu==1.7.4\n",
        "from datetime import datetime, timedelta\n",
        "from typing import List\n",
        "import math\n",
        "import faiss\n",
        "import os\n",
        "import logging\n",
        "logging.basicConfig(level=logging.ERROR)\n",
        "from langchain.chat_models import ChatOpenAI\n",
        "from langchain.docstore import InMemoryDocstore\n",
        "from langchain.embeddings import OpenAIEmbeddings\n",
        "from langchain.retrievers import TimeWeightedVectorStoreRetriever\n",
        "from langchain.vectorstores import FAISS\n",
        "from termcolor import colored\n",
        "from langchain_experimental.generative_agents import (\n",
        "\n",
        "    GenerativeAgent,\n",
        "    GenerativeAgentMemory,\n",
        ")"
      ]
    },
    {
      "cell_type": "code",
      "execution_count": 3,
      "id": "a66d33c7",
      "metadata": {},
      "outputs": [
        {
          "name": "stdout",
          "output_type": "stream",
          "text": [
            "Collecting swig\n",
            "  Downloading swig-4.2.1-py2.py3-none-win_amd64.whl.metadata (3.7 kB)\n",
            "Downloading swig-4.2.1-py2.py3-none-win_amd64.whl (2.6 MB)\n",
            "   ---------------------------------------- 0.0/2.6 MB ? eta -:--:--\n",
            "   ---------------------------------------- 0.0/2.6 MB ? eta -:--:--\n",
            "   ---------------------------------------- 0.0/2.6 MB 445.2 kB/s eta 0:00:06\n",
            "    --------------------------------------- 0.1/2.6 MB 550.5 kB/s eta 0:00:05\n",
            "   ---- ----------------------------------- 0.3/2.6 MB 1.9 MB/s eta 0:00:02\n",
            "   --------- ------------------------------ 0.6/2.6 MB 2.8 MB/s eta 0:00:01\n",
            "   --------------- ------------------------ 1.0/2.6 MB 3.9 MB/s eta 0:00:01\n",
            "   ----------------- ---------------------- 1.1/2.6 MB 4.0 MB/s eta 0:00:01\n",
            "   -------------------- ------------------- 1.3/2.6 MB 3.9 MB/s eta 0:00:01\n",
            "   ------------------------- -------------- 1.6/2.6 MB 4.0 MB/s eta 0:00:01\n",
            "   ----------------------------- ---------- 1.9/2.6 MB 4.3 MB/s eta 0:00:01\n",
            "   --------------------------------- ------ 2.2/2.6 MB 4.3 MB/s eta 0:00:01\n",
            "   ---------------------------------------  2.5/2.6 MB 4.7 MB/s eta 0:00:01\n",
            "   ---------------------------------------- 2.6/2.6 MB 4.5 MB/s eta 0:00:00\n",
            "Installing collected packages: swig\n",
            "Successfully installed swig-4.2.1\n",
            "Note: you may need to restart the kernel to use updated packages.\n"
          ]
        }
      ],
      "source": [
        "pip install swig\n"
      ]
    },
    {
      "cell_type": "code",
      "execution_count": 4,
      "id": "33632aa0",
      "metadata": {},
      "outputs": [
        {
          "name": "stdout",
          "output_type": "stream",
          "text": [
            "Collecting faiss-cpu==1.7.4\n",
            "  Using cached faiss-cpu-1.7.4.tar.gz (57 kB)\n",
            "  Installing build dependencies: started\n",
            "  Installing build dependencies: finished with status 'done'\n",
            "  Getting requirements to build wheel: started\n",
            "  Getting requirements to build wheel: finished with status 'done'\n",
            "  Preparing metadata (pyproject.toml): started\n",
            "  Preparing metadata (pyproject.toml): finished with status 'done'\n",
            "Building wheels for collected packages: faiss-cpu\n",
            "  Building wheel for faiss-cpu (pyproject.toml): started\n",
            "  Building wheel for faiss-cpu (pyproject.toml): finished with status 'error'\n",
            "Failed to build faiss-cpu\n"
          ]
        },
        {
          "name": "stderr",
          "output_type": "stream",
          "text": [
            "  error: subprocess-exited-with-error\n",
            "  \n",
            "  × Building wheel for faiss-cpu (pyproject.toml) did not run successfully.\n",
            "  │ exit code: 1\n",
            "  ╰─> [13 lines of output]\n",
            "      running bdist_wheel\n",
            "      running build\n",
            "      running build_py\n",
            "      running build_ext\n",
            "      building 'faiss._swigfaiss' extension\n",
            "      swigging faiss\\faiss\\python\\swigfaiss.i to faiss\\faiss\\python\\swigfaiss_wrap.cpp\n",
            "      swig.exe -python -c++ -Doverride= -I/usr/local/include -Ifaiss -doxygen -DSWIGWIN -module swigfaiss -o faiss\\faiss\\python\\swigfaiss_wrap.cpp faiss\\faiss\\python\\swigfaiss.i\n",
            "      Traceback (most recent call last):\n",
            "        File \"<frozen runpy>\", line 198, in _run_module_as_main\n",
            "        File \"<frozen runpy>\", line 88, in _run_code\n",
            "        File \"c:\\Users\\vives\\OneDrive\\Documents\\IIM Study\\Python codes Post IIM\\Streamlit\\.venv\\Scripts\\swig.exe\\__main__.py\", line 4, in <module>\n",
            "      ModuleNotFoundError: No module named 'swig'\n",
            "      error: command 'c:\\\\Users\\\\vives\\\\OneDrive\\\\Documents\\\\IIM Study\\\\Python codes Post IIM\\\\Streamlit\\\\.venv\\\\Scripts\\\\swig.exe' failed with exit code 1\n",
            "      [end of output]\n",
            "  \n",
            "  note: This error originates from a subprocess, and is likely not a problem with pip.\n",
            "  ERROR: Failed building wheel for faiss-cpu\n",
            "ERROR: Could not build wheels for faiss-cpu, which is required to install pyproject.toml-based projects\n"
          ]
        }
      ],
      "source": [
        "!pip install faiss-cpu==1.7.4\n"
      ]
    },
    {
      "cell_type": "code",
      "execution_count": null,
      "id": "p_RduA0AW2FK",
      "metadata": {
        "id": "p_RduA0AW2FK"
      },
      "outputs": [],
      "source": [
        "os.environ[\"OPENAI_API_KEY\"] = ''"
      ]
    },
    {
      "cell_type": "code",
      "execution_count": null,
      "id": "81824e76",
      "metadata": {
        "colab": {
          "base_uri": "https://localhost:8080/"
        },
        "id": "81824e76",
        "outputId": "f58890ec-57a3-4901-8f0a-5e42e0af9a6a",
        "tags": []
      },
      "outputs": [
        {
          "name": "stderr",
          "output_type": "stream",
          "text": [
            "/usr/local/lib/python3.10/dist-packages/langchain_core/_api/deprecation.py:117: LangChainDeprecationWarning: The class `langchain_community.chat_models.openai.ChatOpenAI` was deprecated in langchain-community 0.1.0 and will be removed in 0.2.0. Use langchain_openai.ChatOpenAI instead.\n",
            "  warn_deprecated(\n"
          ]
        }
      ],
      "source": [
        "USER_NAME = \"Nayan\"  # The name you want to use when interviewing the agent.\n",
        "\n",
        "LLM = ChatOpenAI(max_tokens=1500)  # Can be any LLM you want."
      ]
    },
    {
      "cell_type": "markdown",
      "id": "2fa3ca02",
      "metadata": {
        "id": "2fa3ca02"
      },
      "source": [
        "## Implementing Your First Generative Agent\n",
        "\n",
        "\n"
      ]
    },
    {
      "cell_type": "code",
      "execution_count": null,
      "id": "ee9c1a1d-c311-4f1c-8131-75fccd9025b1",
      "metadata": {
        "id": "ee9c1a1d-c311-4f1c-8131-75fccd9025b1",
        "tags": []
      },
      "outputs": [],
      "source": [
        "\n",
        "\n",
        "def relevance_score_fn(score: float) -> float:\n",
        "    \"\"\"Return a similarity score on a scale [0, 1].\"\"\"\n",
        "    # This will differ depending on a few things:\n",
        "    # - the distance / similarity metric used by the VectorStore\n",
        "    # - the scale of your embeddings (OpenAI's are unit norm. Many others are not!)\n",
        "    # This function converts the euclidean norm of normalized embeddings\n",
        "    # (0 is most similar, sqrt(2) most dissimilar)\n",
        "    # to a similarity function (0 to 1)\n",
        "    return 1.0 - score / math.sqrt(2)\n",
        "\n",
        "\n",
        "def create_new_memory_retriever():\n",
        "    \"\"\"Create a new vector store retriever unique to the agent.\"\"\"\n",
        "    # Define your embedding model\n",
        "    embeddings_model = OpenAIEmbeddings()\n",
        "    # Initialize the vectorstore as empty\n",
        "    embedding_size = 1536\n",
        "    index = faiss.IndexFlatL2(embedding_size)\n",
        "    vectorstore = FAISS(\n",
        "        embeddings_model.embed_query,\n",
        "        index,\n",
        "        InMemoryDocstore({}),\n",
        "        {},\n",
        "        relevance_score_fn=relevance_score_fn,\n",
        "    )\n",
        "    return TimeWeightedVectorStoreRetriever(\n",
        "        vectorstore=vectorstore, other_score_keys=[\"importance\"], k=15\n",
        "    )"
      ]
    },
    {
      "cell_type": "code",
      "execution_count": null,
      "id": "7884f9dd-c597-4c27-8c77-1402c71bc2f8",
      "metadata": {
        "colab": {
          "base_uri": "https://localhost:8080/"
        },
        "id": "7884f9dd-c597-4c27-8c77-1402c71bc2f8",
        "outputId": "742bf4fd-9175-43af-ba2c-697aa965d4c3",
        "tags": []
      },
      "outputs": [
        {
          "name": "stderr",
          "output_type": "stream",
          "text": [
            "/usr/local/lib/python3.10/dist-packages/langchain_core/_api/deprecation.py:117: LangChainDeprecationWarning: The class `langchain_community.embeddings.openai.OpenAIEmbeddings` was deprecated in langchain-community 0.1.0 and will be removed in 0.2.0. Use langchain_openai.OpenAIEmbeddings instead.\n",
            "  warn_deprecated(\n",
            "WARNING:langchain_community.vectorstores.faiss:`embedding_function` is expected to be an Embeddings object, support for passing in a function will soon be removed.\n",
            "WARNING:langchain_community.vectorstores.faiss:`embedding_function` is expected to be an Embeddings object, support for passing in a function will soon be removed.\n"
          ]
        }
      ],
      "source": [
        "alexis_memory = GenerativeAgentMemory(\n",
        "    llm=LLM,\n",
        "    memory_retriever=create_new_memory_retriever(),\n",
        "    verbose=False,\n",
        "    reflection_threshold=8,  # we will give this a relatively low number to show how reflection works\n",
        ")\n",
        "\n",
        "# Defining the Generative Agent: Alexis\n",
        "alexis = GenerativeAgent(\n",
        "    name=\"Alexis\",\n",
        "    age=30,\n",
        "    traits=\"curious, creative writer, world traveler\",  # Persistent traits of Alexis\n",
        "    status=\"exploring the intersection of technology and storytelling\",  # Current status of Alexis\n",
        "    memory_retriever=create_new_memory_retriever(),\n",
        "    llm=LLM,\n",
        "    memory=alexis_memory,\n",
        ")"
      ]
    },
    {
      "cell_type": "code",
      "execution_count": null,
      "id": "c524d529",
      "metadata": {
        "colab": {
          "base_uri": "https://localhost:8080/"
        },
        "id": "c524d529",
        "outputId": "b352d8d3-23f7-4aca-9774-f7cc4929feb0",
        "tags": []
      },
      "outputs": [
        {
          "name": "stdout",
          "output_type": "stream",
          "text": [
            "Name: Alexis (age: 30)\n",
            "Innate traits: curious, creative writer, world traveler\n",
            "Alexis's core characteristics include being driven, ambitious, and focused on achieving goals. They are detail-oriented and possess strong organizational skills. Alexis is a problem solver and is known for their analytical thinking. They are also a good communicator and can effectively convey their ideas to others. Additionally, Alexis is known for their perseverance and determination in overcoming obstacles.\n"
          ]
        }
      ],
      "source": [
        "# The current \"Summary\" of a character can't be made because the agent hasn't made\n",
        "# any observations yet.\n",
        "print(alexis.get_summary())"
      ]
    },
    {
      "cell_type": "code",
      "execution_count": null,
      "id": "4be60979-d56e-4abf-a636-b34ffa8b7fba",
      "metadata": {
        "colab": {
          "base_uri": "https://localhost:8080/"
        },
        "id": "4be60979-d56e-4abf-a636-b34ffa8b7fba",
        "outputId": "787d4075-14e9-46ec-e2a8-04dd952809bf",
        "tags": []
      },
      "outputs": [
        {
          "name": "stdout",
          "output_type": "stream",
          "text": [
            "Name: Alexis (age: 30)\n",
            "Innate traits: curious, creative writer, world traveler\n",
            "Alexis is a person who values her relationships and enjoys spending time with close friends. She is looking forward to her weekend trip and appreciates nature, as seen in her morning walk in the park. Alexis is enthusiastic about reading and is excited about a new book she started. She also has an appreciation for art, as she recalls a painting she saw at the art gallery. Alexis is a goal-oriented individual who contemplates her goals for the month. Additionally, she is open to learning new skills, as she plans to learn a new recipe for dinner.\n"
          ]
        }
      ],
      "source": [
        "# We can add memories directly to the memory object\n",
        "\n",
        "alexis_observations = [\n",
        "    \"Alexis recalls her morning walk in the park\",\n",
        "    \"Alexis feels excited about the new book she started reading\",\n",
        "    \"Alexis remembers her conversation with a close friend\",\n",
        "    \"Alexis thinks about the painting she saw at the art gallery\",\n",
        "    \"Alexis is planning to learn a new recipe for dinner\",\n",
        "    \"Alexis is looking forward to her weekend trip\",\n",
        "    \"Alexis contemplates her goals for the month.\"\n",
        "]\n",
        "\n",
        "for observation in alexis_observations:\n",
        "    alexis.memory.add_memory(observation)\n",
        "\n",
        "\n",
        "\n",
        "# We will see how this summary updates after more observations to create a more rich description.\n",
        "print(alexis.get_summary(force_refresh=True))"
      ]
    },
    {
      "cell_type": "markdown",
      "id": "Pr2_MJggZcve",
      "metadata": {
        "id": "Pr2_MJggZcve"
      },
      "source": [
        "## Interacting and Providing Context to Generative Characters"
      ]
    },
    {
      "cell_type": "markdown",
      "id": "40d39a32-838c-4a03-8b27-a52c76c402e7",
      "metadata": {
        "id": "40d39a32-838c-4a03-8b27-a52c76c402e7",
        "tags": []
      },
      "source": [
        "## Pre-Interview with Character\n",
        "\n",
        "Before sending our character on their way, let's ask them a few questions."
      ]
    },
    {
      "cell_type": "code",
      "execution_count": null,
      "id": "eaf125d8-f54c-4c5f-b6af-32789b1f7d3a",
      "metadata": {
        "id": "eaf125d8-f54c-4c5f-b6af-32789b1f7d3a",
        "tags": []
      },
      "outputs": [],
      "source": [
        "def interview_agent(agent: GenerativeAgent, message: str) -> str:\n",
        "    \"\"\"Help the notebook user interact with the agent.\"\"\"\n",
        "    new_message = f\"{USER_NAME} says {message}\"\n",
        "    return agent.generate_dialogue_response(new_message)[1]"
      ]
    },
    {
      "cell_type": "code",
      "execution_count": null,
      "id": "54024d41-6e83-4914-91e5-73140e2dd9c8",
      "metadata": {
        "colab": {
          "base_uri": "https://localhost:8080/",
          "height": 52
        },
        "id": "54024d41-6e83-4914-91e5-73140e2dd9c8",
        "outputId": "5ba18969-db68-455a-bc21-51c7607ae66b",
        "tags": []
      },
      "outputs": [
        {
          "data": {
            "application/vnd.google.colaboratory.intrinsic+json": {
              "type": "string"
            },
            "text/plain": [
              "'Alexis said \"I enjoy spending time with my close friends, exploring new places, and immersing myself in different cultures when I travel. I also have a passion for creative writing and love delving into new books. How about you, Nayan? What do you like to do?\"'"
            ]
          },
          "execution_count": 9,
          "metadata": {},
          "output_type": "execute_result"
        }
      ],
      "source": [
        "interview_agent(alexis, \"What do you like to do?\")\n"
      ]
    },
    {
      "cell_type": "markdown",
      "id": "e509c468-f7cd-4d72-9f3a-f4aba28b1eea",
      "metadata": {
        "id": "e509c468-f7cd-4d72-9f3a-f4aba28b1eea"
      },
      "source": [
        "## Step through the day's observations."
      ]
    },
    {
      "cell_type": "code",
      "execution_count": null,
      "id": "154dee3d-bfe0-4828-b963-ed7e885799b3",
      "metadata": {
        "id": "154dee3d-bfe0-4828-b963-ed7e885799b3",
        "tags": []
      },
      "outputs": [],
      "source": [
        "# Let's give Alexa a series of observations to reflect on her day\n",
        "# Adding observations to Alexis' memory\n",
        "alexis_observations_day = [\n",
        "    \"Alexis starts her day with a refreshing yoga session.\",\n",
        "    \"Alexis spends time writing in her journal.\",\n",
        "    \"Alexis experiments with a new recipe she found online.\",\n",
        "    \"Alexis gets lost in her thoughts while gardening.\",\n",
        "    \"Alexis decides to call her grandmother for a heartfelt chat.\",\n",
        "    \"Alexis relaxes in the evening by playing her favorite piano pieces.\",\n",
        "]\n",
        "\n",
        "for observation in alexis_observations_day:\n",
        "    alexis.memory.add_memory(observation)\n"
      ]
    },
    {
      "cell_type": "code",
      "execution_count": null,
      "id": "238be49c-edb3-4e26-a2b6-98777ba8de86",
      "metadata": {
        "colab": {
          "base_uri": "https://localhost:8080/"
        },
        "id": "238be49c-edb3-4e26-a2b6-98777ba8de86",
        "outputId": "eb5c9ae0-b2b0-4d01-bc55-15024a526452",
        "tags": []
      },
      "outputs": [
        {
          "name": "stdout",
          "output_type": "stream",
          "text": [
            "Alexis starts her day with a refreshing yoga session. Alexis feels energized and ready to start her day.\n",
            "Alexis spends time writing in her journal. Alexis feels a sense of satisfaction and accomplishment from her journaling.\n",
            "Alexis experiments with a new recipe she found online. Alexis feels adventurous and excited to try out the new recipe.\n",
            "Alexis gets lost in her thoughts while gardening. Alexis feels a sense of peace and tranquility while gardening.\n",
            "Alexis decides to call her grandmother for a heartfelt chat. Alexis feels grateful for the opportunity to connect with her grandmother and looks forward to their conversation.\n",
            "Alexis relaxes in the evening by playing her favorite piano pieces. Alexis feels a sense of joy and relaxation as she plays her favorite piano pieces.\n",
            "****************************************\n",
            "After these observations, Alexis's summary is:\n",
            "Name: Alexis (age: 30)\n",
            "Innate traits: curious, creative writer, world traveler\n",
            "Alexis is a creative and introspective individual who finds joy and relaxation in activities such as playing the piano, practicing yoga, writing in her journal, and gardening. She values her relationships, as seen through her conversations with close friends and her heartfelt chats with her grandmother. Alexis is also adventurous and open to new experiences, as evidenced by her excitement to try out new recipes and her interest in exploring different art forms such as painting and reading. She sets goals for herself and takes time to reflect on them, showing a sense of purpose and self-awareness. Overall, Alexis seeks and finds fulfillment in engaging in activities that nourish her mind, body, and soul.\n",
            "****************************************\n"
          ]
        }
      ],
      "source": [
        "# Let's observe how Alexis's day influences her memory and character\n",
        "for i, observation in enumerate(alexis_observations_day):\n",
        "    _, reaction = alexis.generate_reaction(observation)\n",
        "    print(colored(observation, \"green\"), reaction)\n",
        "    if ((i + 1) % len(alexis_observations_day)) == 0:\n",
        "        print(\"*\" * 40)\n",
        "        print(\n",
        "            colored(\n",
        "                f\"After these observations, Alexis's summary is:\\n{alexis.get_summary(force_refresh=True)}\",\n",
        "                \"blue\",\n",
        "            )\n",
        "        )\n",
        "        print(\"*\" * 40)\n"
      ]
    },
    {
      "cell_type": "markdown",
      "id": "c9261428-778a-4c0b-b725-bc9e91b71391",
      "metadata": {
        "id": "c9261428-778a-4c0b-b725-bc9e91b71391"
      },
      "source": [
        "## Adding Multiple Characters\n",
        "\n"
      ]
    },
    {
      "cell_type": "code",
      "execution_count": null,
      "id": "ec8bbe18-a021-419c-bf1f-23d34732cd99",
      "metadata": {
        "colab": {
          "base_uri": "https://localhost:8080/"
        },
        "id": "ec8bbe18-a021-419c-bf1f-23d34732cd99",
        "outputId": "c3bc183f-b4ef-43d1-ecd2-54930e92793e",
        "tags": []
      },
      "outputs": [
        {
          "name": "stderr",
          "output_type": "stream",
          "text": [
            "WARNING:langchain_community.vectorstores.faiss:`embedding_function` is expected to be an Embeddings object, support for passing in a function will soon be removed.\n",
            "WARNING:langchain_community.vectorstores.faiss:`embedding_function` is expected to be an Embeddings object, support for passing in a function will soon be removed.\n"
          ]
        },
        {
          "name": "stdout",
          "output_type": "stream",
          "text": [
            "Name: Jordan (age: 28)\n",
            "Innate traits: tech enthusiast, avid gamer, foodie\n",
            "Jordan is a tech enthusiast who is passionate about startups, gaming, coding, and artificial intelligence. They are constantly seeking new knowledge and opportunities for growth, such as enrolling in a machine learning course and attending a tech conference. Jordan enjoys socializing with like-minded individuals, as seen by their plan to organize a meetup with tech enthusiasts. They also value leisure time, as evidenced by their enjoyment of playing video games and trying new restaurants. However, they are diligent and dedicated, as shown by their completion of a challenging coding project and their discovery of a bug in their app prototype. Overall, Jordan is a well-rounded individual with a strong interest in the tech industry.\n"
          ]
        }
      ],
      "source": [
        "# Creating Jordan's Memory\n",
        "jordan_memory = GenerativeAgentMemory(\n",
        "    llm=LLM,\n",
        "    memory_retriever=create_new_memory_retriever(),\n",
        "    verbose=False,\n",
        "    reflection_threshold=7,  # Set to illustrate Jordan's reflective capabilities\n",
        ")\n",
        "\n",
        "# Defining the Generative Agent: Jordan\n",
        "jordan = GenerativeAgent(\n",
        "    name=\"Jordan\",\n",
        "    age=28,\n",
        "    traits=\"tech enthusiast, avid gamer, foodie\",  # Persistent traits of Jordan\n",
        "    status=\"navigating the world of tech startups\",  # Current status of Jordan\n",
        "    memory_retriever=create_new_memory_retriever(),\n",
        "    llm=LLM,\n",
        "    memory=jordan_memory,\n",
        ")\n",
        "\n",
        "# Adding observations to Jordan's memory\n",
        "jordan_observations_day = [\n",
        "    \"Jordan finished a challenging coding project last night\",\n",
        "    \"Jordan won a local gaming tournament over the weekend\",\n",
        "    \"Jordan tried a new sushi restaurant and loved it\",\n",
        "    \"Jordan read an article about the latest AI advancements\",\n",
        "    \"Jordan is planning a meetup with tech enthusiasts\",\n",
        "    \"Jordan discovered a bug in his latest app prototype\",\n",
        "    \"Jordan booked tickets for a tech conference next month\",\n",
        "    \"Jordan feels excited about a potential startup idea\",\n",
        "    \"Jordan spent the evening playing video games to unwind\",\n",
        "    \"Jordan is considering enrolling in a machine learning course\"\n",
        "]\n",
        "\n",
        "for observation in jordan_observations_day:\n",
        "    jordan.memory.add_memory(observation)\n",
        "\n",
        "print(jordan.get_summary())"
      ]
    },
    {
      "cell_type": "markdown",
      "id": "dd780655-1d73-4fcb-a78d-79fd46a20636",
      "metadata": {
        "id": "dd780655-1d73-4fcb-a78d-79fd46a20636"
      },
      "source": [
        "## Dialogue between Generative Agents\n",
        "\n"
      ]
    },
    {
      "cell_type": "code",
      "execution_count": null,
      "id": "042ea271-4bf1-4247-9082-239a6fea43b8",
      "metadata": {
        "id": "042ea271-4bf1-4247-9082-239a6fea43b8",
        "tags": []
      },
      "outputs": [],
      "source": [
        "def run_conversation(agents: List[GenerativeAgent], initial_observation: str) -> None:\n",
        "    \"\"\"Runs a conversation between agents.\"\"\"\n",
        "    _, observation = agents[1].generate_reaction(initial_observation)\n",
        "    print(observation)\n",
        "    max_turns = 3\n",
        "    turns = 0\n",
        "    while turns<=max_turns:\n",
        "        break_dialogue = False\n",
        "        for agent in agents:\n",
        "            stay_in_dialogue, observation = agent.generate_dialogue_response(\n",
        "                observation\n",
        "            )\n",
        "            print(observation)\n",
        "            # observation = f\"{agent.name} said {reaction}\"\n",
        "            if not stay_in_dialogue:\n",
        "                break_dialogue = True\n",
        "        if break_dialogue:\n",
        "            break\n",
        "        turns += 1"
      ]
    },
    {
      "cell_type": "code",
      "execution_count": null,
      "metadata": {},
      "outputs": [],
      "source": [
        "agents = [alexis, jordan]\n",
        "run_conversation(\n",
        "    agents,\n",
        "    \"Alexis said: Hey Jordan, I've been exploring how technology influences creativity lately. Since you're into tech, I was wondering if you've seen any interesting intersections in your field?\",\n",
        ")"
      ]
    },
    {
      "cell_type": "markdown",
      "id": "1b28fe80-03dc-4399-961d-6e9ee1980216",
      "metadata": {
        "id": "1b28fe80-03dc-4399-961d-6e9ee1980216",
        "tags": []
      },
      "source": [
        "## Let's interview our agents after their conversation\n",
        "\n",
        "Since the generative agents retain their memories from the day, we can ask them about their plans, conversations, and other memoreis."
      ]
    },
    {
      "cell_type": "code",
      "execution_count": null,
      "id": "71762558-8fb6-44d7-8483-f5b47fb2a862",
      "metadata": {
        "colab": {
          "base_uri": "https://localhost:8080/",
          "height": 70
        },
        "id": "71762558-8fb6-44d7-8483-f5b47fb2a862",
        "outputId": "7cba58e7-8fdf-4f5b-9b9c-0c4f0be91366",
        "tags": []
      },
      "outputs": [
        {
          "data": {
            "application/vnd.google.colaboratory.intrinsic+json": {
              "type": "string"
            },
            "text/plain": [
              "'Jordan said \"It was really engaging, Nayan! We discussed the fascinating intersections of technology and creativity, particularly in the fields of gaming and design. Alexis was interested in exploring AI\\'s impact on storytelling outside of gaming, so I shared some examples of how AI can be used in personalized books and scriptwriting. It was a great conversation! How about you? Have you had any interesting conversations lately?\"'"
            ]
          },
          "execution_count": 15,
          "metadata": {},
          "output_type": "execute_result"
        }
      ],
      "source": [
        "interview_agent(jordan, \"How was your conversation with Alexis?\")"
      ]
    },
    {
      "cell_type": "code",
      "execution_count": null,
      "id": "085af3d8-ac21-41ea-8f8b-055c56976a67",
      "metadata": {
        "colab": {
          "base_uri": "https://localhost:8080/",
          "height": 70
        },
        "id": "085af3d8-ac21-41ea-8f8b-055c56976a67",
        "outputId": "5b35bd50-c170-4791-cffb-b9533eaf88ed",
        "tags": []
      },
      "outputs": [
        {
          "data": {
            "application/vnd.google.colaboratory.intrinsic+json": {
              "type": "string"
            },
            "text/plain": [
              "'Alexis said \"It was really engaging! We discussed the fascinating applications of AI in storytelling and design. Jordan shared some examples, like personalized books and AI-assisted scriptwriting. I\\'m excited to explore these further. How about you? Have you come across any interesting uses of AI in storytelling or design?\"'"
            ]
          },
          "execution_count": 16,
          "metadata": {},
          "output_type": "execute_result"
        }
      ],
      "source": [
        "interview_agent(alexis, \"How was your conversation with Jordan?\")"
      ]
    },
    {
      "cell_type": "markdown",
      "id": "2puqQGxUhs6_",
      "metadata": {
        "id": "2puqQGxUhs6_"
      },
      "source": [
        "## Trivia Night"
      ]
    },
    {
      "cell_type": "code",
      "execution_count": null,
      "id": "UgaluKj-gfHS",
      "metadata": {
        "id": "UgaluKj-gfHS"
      },
      "outputs": [],
      "source": [
        "# Creating Jordan's Memory\n",
        "jordan_memory = GenerativeAgentMemory(\n",
        "    llm=LLM,\n",
        "    memory_retriever=create_new_memory_retriever(),\n",
        "    verbose=False,\n",
        "    reflection_threshold=7,  # Set to illustrate Jordan's reflective capabilities\n",
        ")\n",
        "\n",
        "\n",
        "jordan = GenerativeAgent(\n",
        "    name=\"Jordan\",\n",
        "    age=28,\n",
        "    traits=\" only has knowledge about tech and not other topics\",  # Persistent traits of Jordan\n",
        "    status=\"navigating the world of tech startups\",  # Current status of Jordan\n",
        "    memory_retriever=create_new_memory_retriever(),\n",
        "    llm=LLM,\n",
        "    memory=jordan_memory,\n",
        ")\n",
        "\n",
        "alexis_memory = GenerativeAgentMemory(\n",
        "    llm=LLM,\n",
        "    memory_retriever=create_new_memory_retriever(),\n",
        "    verbose=False,\n",
        "    reflection_threshold=8,  # we will give this a relatively low number to show how reflection works\n",
        ")\n",
        "\n",
        "alexis = GenerativeAgent(\n",
        "    name=\"Alexis\",\n",
        "    age=30,\n",
        "    traits=\"only has knowledge geography related and not other topics\",  # Persistent traits of Alexis\n",
        "    status=\"exploring the intersection of technology and storytelling\",  # Current status of Alexis\n",
        "    memory_retriever=create_new_memory_retriever(),\n",
        "    llm=LLM,\n",
        "    memory=alexis_memory,\n",
        ")\n"
      ]
    },
    {
      "cell_type": "code",
      "execution_count": null,
      "id": "HQVICouR1WFp",
      "metadata": {
        "colab": {
          "base_uri": "https://localhost:8080/"
        },
        "id": "HQVICouR1WFp",
        "outputId": "1fdcb2ab-b00f-47f2-ca29-23faf33bd6b9"
      },
      "outputs": [
        {
          "name": "stdout",
          "output_type": "stream",
          "text": [
            "Trivia Question: What is the capital city of France?\n",
            "Alexis's Answer: Alexis said \"The capital city of France is Paris.\"\n",
            "Jordan's Answer: Jordan said \"The capital city of France is Paris.\"\n",
            "----------------------------------------\n",
            "Trivia Question: Who is known as the father of modern computing?\n",
            "Alexis's Answer: Alexis said \"I apologize, but my knowledge is limited to geography-related topics. I do not have information about the father of modern computing.\"\n",
            "Jordan's Answer: Jordan said \"The father of modern computing is often considered to be Alan Turing, a British mathematician and computer scientist.\"\n",
            "----------------------------------------\n",
            "Trivia Question: Can you name a famous work of art by Leonardo da Vinci?\n",
            "Alexis's Answer: Alexis said \"I apologize, but my knowledge is limited to geography-related topics. I do not have information about specific works of art by Leonardo da Vinci.\"\n",
            "Jordan's Answer: Jordan said \"One famous work of art by Leonardo da Vinci is the painting 'Mona Lisa'.\"\n",
            "----------------------------------------\n"
          ]
        }
      ],
      "source": [
        "\n",
        "def run_competitive_trivia(agents: List[GenerativeAgent], questions: List[str]) -> None:\n",
        "    \"\"\"Runs a competitive trivia night between agents.\"\"\"\n",
        "    for question in questions:\n",
        "        print(f\"Trivia Question: {question}\")\n",
        "\n",
        "        for agent in agents:\n",
        "            response = agent.generate_dialogue_response(question)[1]\n",
        "            print(f\"{agent.name}'s Answer: {response}\")\n",
        "\n",
        "        print(\"-\" * 40)\n",
        "\n",
        "# Define a list of trivia questions covering various topics\n",
        "trivia_questions = [\n",
        "    \"What is the capital city of France?\",\n",
        "    \"Who is known as the father of modern computing?\",\n",
        "    \"Can you name a famous work of art by Leonardo da Vinci?\",\n",
        "]\n",
        "\n",
        "agents = [alexis, jordan]\n",
        "# Run the competitive trivia night\n",
        "run_competitive_trivia(agents, trivia_questions)\n",
        "\n"
      ]
    },
    {
      "cell_type": "code",
      "execution_count": null,
      "id": "owyxmohzeWms",
      "metadata": {
        "id": "owyxmohzeWms"
      },
      "outputs": [],
      "source": []
    }
  ],
  "metadata": {
    "colab": {
      "provenance": []
    },
    "kernelspec": {
      "display_name": "Python 3 (ipykernel)",
      "language": "python",
      "name": "python3"
    },
    "language_info": {
      "codemirror_mode": {
        "name": "ipython",
        "version": 3
      },
      "file_extension": ".py",
      "mimetype": "text/x-python",
      "name": "python",
      "nbconvert_exporter": "python",
      "pygments_lexer": "ipython3",
      "version": "3.12.3"
    }
  },
  "nbformat": 4,
  "nbformat_minor": 5
}
